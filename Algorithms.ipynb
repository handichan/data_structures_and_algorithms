{
 "cells": [
  {
   "cell_type": "markdown",
   "id": "290c8f71-9329-47e5-b9ed-3fd21d98d79c",
   "metadata": {},
   "source": [
    "## Bubble Sort\n",
    " - **Description**: Repeatedly swaps adjacent elements if they are in the wrong order.\n",
    " - **Time Complexity**: O(n²)."
   ]
  },
  {
   "cell_type": "code",
   "execution_count": 2,
   "id": "51aff807-e7a1-473c-a061-849c99af247b",
   "metadata": {},
   "outputs": [
    {
     "name": "stdout",
     "output_type": "stream",
     "text": [
      "[12, 25, 34, 64]\n"
     ]
    }
   ],
   "source": [
    "# Code here (Example)\n",
    "def bubble_sort(arr):\n",
    "    n = len(arr)\n",
    "    for i in range(n):\n",
    "        for j in range(0, n - i - 1):\n",
    "            if arr[j] > arr[j + 1]:\n",
    "                arr[j], arr[j + 1] = arr[j + 1], arr[j]\n",
    "    return arr\n",
    "\n",
    "arr = [64, 34, 25, 12]\n",
    "print(bubble_sort(arr))"
   ]
  },
  {
   "cell_type": "markdown",
   "id": "a05f0f35-9971-4a64-85ce-29ec6b044d94",
   "metadata": {},
   "source": [
    "## Merge Sort\n",
    " - **Description**: A divide-and-conquer sorting algorithm that splits the array into halves, sorts them, and merges them.\n",
    " - **Time Complexity**: O(n log n)."
   ]
  },
  {
   "cell_type": "code",
   "execution_count": null,
   "id": "12b8d266-9c34-4cff-b96b-60fc1a6f73f2",
   "metadata": {},
   "outputs": [],
   "source": [
    "# Code here"
   ]
  },
  {
   "cell_type": "markdown",
   "id": "043656b9-9a5a-4533-8d08-d8a08cd49716",
   "metadata": {},
   "source": [
    "## Quick Sort\n",
    " - **Description**: A divide-and-conquer sorting algorithm that picks a pivot and partitions the array around it.\n",
    " - **Time Complexity**: O(n log n) average, O(n²) worst case."
   ]
  },
  {
   "cell_type": "code",
   "execution_count": null,
   "id": "cf6e1d4d-745a-4535-bbdc-cb6917e599cf",
   "metadata": {},
   "outputs": [],
   "source": [
    "# Code here"
   ]
  },
  {
   "cell_type": "markdown",
   "id": "8e414fa2-6ec5-47a9-ae48-f2141a1bc900",
   "metadata": {},
   "source": [
    "## Binary Search\n",
    " - **Description**: Searches a sorted array by repeatedly dividing the search interval in half.\n",
    " - **Time Complexity**: O(log n)."
   ]
  },
  {
   "cell_type": "code",
   "execution_count": null,
   "id": "1dc5bd88-b6ac-40c9-b291-b1beff3e2934",
   "metadata": {},
   "outputs": [],
   "source": [
    "# Code here"
   ]
  },
  {
   "cell_type": "markdown",
   "id": "13d81f2b-78cb-4a5a-a501-88893f204ec6",
   "metadata": {},
   "source": [
    "## Depth-First Search (DFS)\n",
    " - **Description**: Explores as far as possible along each branch before backtracking.\n",
    " - **Time Complexity**: O(V + E) for graphs (V = vertices, E = edges)."
   ]
  },
  {
   "cell_type": "code",
   "execution_count": null,
   "id": "95f36806-dadb-4a25-8a62-9789365cddb4",
   "metadata": {},
   "outputs": [],
   "source": [
    "# Code here"
   ]
  },
  {
   "cell_type": "markdown",
   "id": "6c2dff1e-8bbd-4deb-a772-b714f84c7978",
   "metadata": {},
   "source": [
    "## Breadth-First Search (BFS)\n",
    " - **Description**: Explores all neighbors at the present depth before moving deeper.\n",
    " - **Time Complexity**: O(V + E)."
   ]
  },
  {
   "cell_type": "code",
   "execution_count": null,
   "id": "dedc7717-ec78-4bc1-a022-ffb1835a9874",
   "metadata": {},
   "outputs": [],
   "source": [
    "# Code here"
   ]
  },
  {
   "cell_type": "markdown",
   "id": "01490add-bb11-4e35-8015-c7486d831672",
   "metadata": {},
   "source": [
    "## Dijkstra’s Algorithm\n",
    " - **Description**: Finds the shortest path from a source to all vertices in a weighted graph.\n",
    " - **Time Complexity**: O((V + E) log V) with a priority queue."
   ]
  },
  {
   "cell_type": "code",
   "execution_count": null,
   "id": "4c020cb7-0483-4f42-845c-71890791b18e",
   "metadata": {},
   "outputs": [],
   "source": [
    "# Code here"
   ]
  },
  {
   "cell_type": "markdown",
   "id": "ef44c719-a9e6-467d-bb1b-b939ed4a0bc8",
   "metadata": {},
   "source": [
    "## Dynamic Programming (Fibonacci)\n",
    " - **Description**: Solves problems by breaking them into overlapping subproblems and storing results.\n",
    " - **Time Complexity**: O(n) with memoization."
   ]
  },
  {
   "cell_type": "code",
   "execution_count": null,
   "id": "8a38add0-6aea-44e8-932d-476da6679872",
   "metadata": {},
   "outputs": [],
   "source": [
    "# Code here"
   ]
  },
  {
   "cell_type": "markdown",
   "id": "333f4189-0118-4a00-b370-5b2ff8bafc9d",
   "metadata": {},
   "source": [
    "## Two Pointers\n",
    " - **Description**: Uses two pointers to traverse an array, often for searching or partitioning.\n",
    " - **Time Complexity**: O(n)."
   ]
  },
  {
   "cell_type": "code",
   "execution_count": null,
   "id": "e5be84ca-a792-45e4-b70a-9e563cf6a3d9",
   "metadata": {},
   "outputs": [],
   "source": [
    "# Code here"
   ]
  },
  {
   "cell_type": "markdown",
   "id": "d059c340-99c4-448c-a4d2-1aad762fca44",
   "metadata": {},
   "source": [
    "## Hashing (Counting Frequencies)\n",
    " - **Description**: Uses a hash table to store and retrieve data efficiently.\n",
    " - **Time Complexity**: O(n) for building, O(1) for lookup."
   ]
  },
  {
   "cell_type": "code",
   "execution_count": null,
   "id": "1d0afc33-5de1-4dfd-8da0-aee1cbf0d15e",
   "metadata": {},
   "outputs": [],
   "source": [
    "# Code here"
   ]
  }
 ],
 "metadata": {
  "kernelspec": {
   "display_name": "Python 3 (ipykernel)",
   "language": "python",
   "name": "python3"
  },
  "language_info": {
   "codemirror_mode": {
    "name": "ipython",
    "version": 3
   },
   "file_extension": ".py",
   "mimetype": "text/x-python",
   "name": "python",
   "nbconvert_exporter": "python",
   "pygments_lexer": "ipython3",
   "version": "3.11.9"
  }
 },
 "nbformat": 4,
 "nbformat_minor": 5
}
