{
 "cells": [
  {
   "cell_type": "markdown",
   "id": "66836282-667e-40d9-9b32-236558ef878c",
   "metadata": {},
   "source": [
    "# Data Structures"
   ]
  },
  {
   "cell_type": "markdown",
   "id": "6878fb31-ac8d-4e2b-a060-0bc3a948a2f9",
   "metadata": {},
   "source": [
    "## List\n",
    " - **Description:** A dynamic, ordered collection of elements that can grow or shrink. In Python, lists are mutable.\n",
    " - **Use Case:** Storing sequences of items, iterating over data.\n",
    " - **Time Complexity:** Access O(1), Append O(1), Insert/Delete O(n)."
   ]
  },
  {
   "cell_type": "code",
   "execution_count": 8,
   "id": "9f664fe7-074b-4350-8b65-0c5b2759ab66",
   "metadata": {},
   "outputs": [
    {
     "name": "stdout",
     "output_type": "stream",
     "text": [
      "[1, 2, 4, 5]\n"
     ]
    }
   ],
   "source": [
    "## code here (Example)\n",
    "my_list = [1, 2, 3, 4]\n",
    "my_list.append(5)\n",
    "my_list.pop(2)\n",
    "print(my_list)"
   ]
  },
  {
   "cell_type": "markdown",
   "id": "c2542c7f-60e0-458c-b4f8-7b5f47988db3",
   "metadata": {},
   "source": [
    "## Tuple\n",
    " - **Description**: An immutable ordered collection of elements.\n",
    " - **Use Case**: When data shouldn’t change (e.g., coordinates).\n",
    " - **Time Complexity**: Access O(1), Immutable."
   ]
  },
  {
   "cell_type": "code",
   "execution_count": 3,
   "id": "22cc778b-8de3-4365-a599-1f908bff579a",
   "metadata": {},
   "outputs": [],
   "source": [
    "## code here"
   ]
  },
  {
   "cell_type": "markdown",
   "id": "fee2f1de-86b3-4bce-8da3-07c3a383865e",
   "metadata": {},
   "source": [
    "## Set\n",
    " - **Description**: An unordered collection of unique elements.\n",
    " - **Use Case**: Membership testing, removing duplicates.\n",
    " - **Time Complexity**: Access/Insert/Delete O(1) average case."
   ]
  },
  {
   "cell_type": "code",
   "execution_count": null,
   "id": "6c03ede7-5f02-49cc-96c6-aacf075cd586",
   "metadata": {},
   "outputs": [],
   "source": [
    "## code here"
   ]
  },
  {
   "cell_type": "markdown",
   "id": "6bbaa611-b291-4d65-a2aa-95cfeb1a5567",
   "metadata": {},
   "source": [
    "## Stack\n",
    " - **Description**: A LIFO (Last In, First Out) data structure.\n",
    " - **Use Case**: Undo operations, function call management.\n",
    " - **Time Complexity**: Push/Pop O(1)."
   ]
  },
  {
   "cell_type": "code",
   "execution_count": 4,
   "id": "3bb6d140-7037-4254-97b4-4d14b9aee439",
   "metadata": {},
   "outputs": [],
   "source": [
    "## code here"
   ]
  },
  {
   "cell_type": "markdown",
   "id": "1ea67d72-558a-45a9-9d46-a922cf44f03a",
   "metadata": {},
   "source": [
    "## Queue\n",
    " - **Description**: A FIFO (First In, First Out) data structure.\n",
    " - **Use Case**: Task scheduling, breadth-first search.\n",
    " - **Time Complexity**: Enqueue/Dequeue O(1) with `collections.deque`."
   ]
  },
  {
   "cell_type": "code",
   "execution_count": null,
   "id": "7384d8e9-6d05-4546-9c21-33a231ab0617",
   "metadata": {},
   "outputs": [],
   "source": [
    "## code here"
   ]
  },
  {
   "cell_type": "markdown",
   "id": "3efd777d-9fad-4c98-8198-d2f7e0f5a711",
   "metadata": {},
   "source": [
    "## Linked List\n",
    " - **Description**: A sequence of nodes where each node contains data and a reference to the next node.\n",
    " - **Use Case**: Dynamic memory allocation, no fixed size.\n",
    " - **Time Complexity**: Access O(n), Insert/Delete O(1) at known position."
   ]
  },
  {
   "cell_type": "code",
   "execution_count": 5,
   "id": "df94b159-a1b6-4dea-9a0e-d459f94bcd9f",
   "metadata": {},
   "outputs": [],
   "source": [
    "## code here"
   ]
  },
  {
   "cell_type": "markdown",
   "id": "a8052b26-5765-4800-b491-d59088b45b55",
   "metadata": {},
   "source": [
    "## Binary Tree\n",
    " - **Description**: A tree where each node has at most two children (left and right).\n",
    " - **Use Case**: Hierarchical data, binary search trees."
   ]
  },
  {
   "cell_type": "code",
   "execution_count": null,
   "id": "0c409bde-1463-4b03-a89d-072e27f164fa",
   "metadata": {},
   "outputs": [],
   "source": [
    "## code here"
   ]
  },
  {
   "cell_type": "markdown",
   "id": "db40be01-c408-48da-be82-c7ac2517d9bd",
   "metadata": {},
   "source": [
    "## Heap (Priority Queue)\n",
    " - **Description**: A tree-based structure where the parent is greater (max heap) or smaller (min heap) than its children.\n",
    " - **Use Case**: Priority scheduling, Dijkstra’s algorithm.\n",
    " - **Time Complexity**: Insert O(log n), Extract Min/Max O(log n)."
   ]
  },
  {
   "cell_type": "code",
   "execution_count": null,
   "id": "051a96f2-920c-40f6-a313-7d3ebb6aeb14",
   "metadata": {},
   "outputs": [],
   "source": [
    "## code here"
   ]
  },
  {
   "cell_type": "markdown",
   "id": "4cd27978-9d55-4537-9c22-cdbe33f6913d",
   "metadata": {},
   "source": [
    "## Graph\n",
    " - **Description**: A collection of nodes (vertices) connected by edges.\n",
    " - **Use Case**: Networks, social media connections."
   ]
  },
  {
   "cell_type": "code",
   "execution_count": null,
   "id": "23410b90-04fe-4233-a579-df2cbaf7bcc1",
   "metadata": {},
   "outputs": [],
   "source": [
    "## code here"
   ]
  }
 ],
 "metadata": {
  "kernelspec": {
   "display_name": "Python 3 (ipykernel)",
   "language": "python",
   "name": "python3"
  },
  "language_info": {
   "codemirror_mode": {
    "name": "ipython",
    "version": 3
   },
   "file_extension": ".py",
   "mimetype": "text/x-python",
   "name": "python",
   "nbconvert_exporter": "python",
   "pygments_lexer": "ipython3",
   "version": "3.11.9"
  }
 },
 "nbformat": 4,
 "nbformat_minor": 5
}
